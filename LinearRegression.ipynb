{
 "cells": [
  {
   "cell_type": "markdown",
   "metadata": {
    "colab_type": "text",
    "id": "YpYFXhH3SJ3Y"
   },
   "source": [
    "<h1><center>Linear Regression</center></h1>\n",
    "\n",
    "The goal of this tutorial is to develop your understanding of a basic Machine Learning model and learn some basic concepts such as how datasets are visualised and misc. It is necessary to not only understand the mathematics behind the models but also to know how to convert that knowledge into code that can work.\n",
    "\n",
    "\n"
   ]
  },
  {
   "cell_type": "markdown",
   "metadata": {},
   "source": [
    "### By the end of this tutorial, you’ll have learned:\n",
    "\n",
    "   - What linear regression is\n",
    "   - Linear Regression Explanation\n",
    "   - How to implement linear regression in Python, step by step"
   ]
  },
  {
   "cell_type": "markdown",
   "metadata": {},
   "source": [
    "### Regression\n",
    "\n",
    "Regression analysis is one of the most areas in the field of machine learning and statistics. There are many type of regression analysis like logistic regression, linear regression, polynomial regression etc.\n",
    "For this tutorial we'll be focusing on Linear Regression."
   ]
  },
  {
   "cell_type": "markdown",
   "metadata": {},
   "source": [
    "#### What is Regression?\n",
    "\n",
    "To simply explain, regression is finding a relationship among variables.\n",
    "\n",
    "For Example. You have some data related to houses and their prices. Now, each house has some features like number of rooms, floors, area etc. Based on these features prices of the houses vary. \n",
    "\n",
    "The problem of predicting prices of the houses based on these features is known as a regression problem. Because the price is somehow related to these features described above. In regression analysis you have a number of observations. Each observation has some features. By an assumption that some features are dependant upon others we try to establish a relationship among them.\n",
    "\n",
    "In other words, for a given problem you need to map some features or variable to other.\n",
    "\n",
    "Commonly the outputs with 𝑦 and inputs with 𝑥. If there are two or more independent variables, they can be represented as the vector 𝐱 = (𝑥₁, …, 𝑥ᵣ), where 𝑟 is the number of inputs."
   ]
  },
  {
   "cell_type": "markdown",
   "metadata": {},
   "source": [
    "### Linear Regression\n",
    "\n",
    "Linear regression is one of the most important and widely used regression techniques for predictive analysis. It’s among the some of the simplest regression methods. One of its main advantages is the ease with which we can interpret resuslts."
   ]
  },
  {
   "cell_type": "markdown",
   "metadata": {},
   "source": [
    "#### Explanation\n",
    "\n",
    "To put simply what we try to do in Linear regression is that we try to fit a straight line on data such that it fits the data best. The equation for linear regression can be presented as Y = mX + c. Here X is the independent variable (inputs) and Y is the dependent variable (outputs) of the model. m and c are the slope and intercept of the line which will try to fit the data.\n",
    "Think about the individual axes: the Y variable always plots the “dependent” variable, so in our example, that would be the prices. The X variable is the independent variable, which in our case are the features of houses. \n",
    "\n",
    "We want to plot how much of the variation in the Y variable can be explained by variation in the X variable."
   ]
  },
  {
   "cell_type": "markdown",
   "metadata": {},
   "source": [
    "![title](https://media.geeksforgeeks.org/wp-content/uploads/python-linear-regression-1.png)"
   ]
  },
  {
   "cell_type": "markdown",
   "metadata": {},
   "source": [
    "On this data we will try to fit the line. Which best describes the reationship between the two variables X and Y.\n",
    "![title](https://media.geeksforgeeks.org/wp-content/uploads/python-linear-regression-2.png)"
   ]
  },
  {
   "cell_type": "markdown",
   "metadata": {},
   "source": [
    "### Implementation using Python"
   ]
  },
  {
   "cell_type": "markdown",
   "metadata": {},
   "source": [
    "These are some of the essential libraries that are needed to use some built-in functionalities provided by python. Some well-known libraries\n",
    "are like Numpy, Matplotlib, pickle etc."
   ]
  },
  {
   "cell_type": "code",
   "execution_count": 1,
   "metadata": {},
   "outputs": [],
   "source": [
    "import numpy as np\n",
    "import matplotlib.pyplot as plt\n",
    "import pickle\n",
    "from matplotlib import rcParams\n",
    "%matplotlib inline\n",
    "rcParams['figure.figsize'] = 18,14"
   ]
  },
  {
   "cell_type": "markdown",
   "metadata": {},
   "source": [
    "##### Dataset\n",
    "We'll be using scaled down version of Boston housing data for this tutorial."
   ]
  },
  {
   "cell_type": "markdown",
   "metadata": {},
   "source": [
    "##### Loading dataset\n",
    "Pickle is a standard Python library that handles serialization - that is, a way to take variables that are otherwise stored in memory, and output them in a format that can be stored to a file and read from later.\n",
    "pickle.load() is a method to load pickle files. \n",
    "\n",
    "We'll also convert our data from 2-D into 1-D using resize function provided by numpy"
   ]
  },
  {
   "cell_type": "code",
   "execution_count": 2,
   "metadata": {
    "colab": {},
    "colab_type": "code",
    "id": "hjnH5hLCSJ3c"
   },
   "outputs": [],
   "source": [
    "# Load Dataset\n",
    "(x_train, y_train), (x_test, y_test)= pickle.load( open( \"dataset.pkl\", \"rb\" ) )\n",
    "\n",
    "# to convert data from 2D i.e. N rows with 1 column to simple 1D N rows.\n",
    "x_train.resize(len(x_train))\n",
    "x_test.resize(len(x_test))"
   ]
  },
  {
   "cell_type": "markdown",
   "metadata": {
    "colab_type": "text",
    "id": "Kzt1xvt3SJ3w"
   },
   "source": [
    "##### Plotting the data\n",
    "\n",
    "Here we will be using Matplotlib's scatter plot to plot our training and testing data"
   ]
  },
  {
   "cell_type": "code",
   "execution_count": 3,
   "metadata": {
    "colab": {},
    "colab_type": "code",
    "id": "NKlVUbDYSJ3z",
    "scrolled": true
   },
   "outputs": [
    {
     "data": {
      "image/png": "[encoded data removed]",
      "text/plain": [
       "<Figure size 432x288 with 1 Axes>"
      ]
     },
     "metadata": {
      "needs_background": "light"
     },
     "output_type": "display_data"
    }
   ],
   "source": [
    "'''\n",
    "Display training and testing dataset with different colors using matplotlib library.\n",
    "'''\n",
    "plt.title('Train Test Plot')\n",
    "plt.scatter(x_train, y_train, c='r', label='train')\n",
    "plt.scatter(x_test, y_test, c='g', label='test')\n",
    "plt.legend()\n",
    "plt.show()"
   ]
  },
  {
   "cell_type": "markdown",
   "metadata": {},
   "source": [
    "Now, we can see how the data is distributed we an move forward and compute m and c which are slope and intercept of the line fitting the data. We'll start with the training data. \n",
    "First, we'll find mean of x_train and y_train\n",
    "Then we will find the value of m and c by given formula.\n",
    "\n",
    "![title](https://wikimedia.org/api/rest_v1/media/math/render/svg/944e96221f03e99dbd57290c328b205b0f04c803)"
   ]
  },
  {
   "cell_type": "code",
   "execution_count": 4,
   "metadata": {
    "colab": {},
    "colab_type": "code",
    "id": "HLSe2htGSJ3-",
    "scrolled": true
   },
   "outputs": [
    {
     "name": "stdout",
     "output_type": "stream",
     "text": [
      "\n",
      "The value of m and c is: -0.9278216902292561 , 34.216255712624125\n"
     ]
    }
   ],
   "source": [
    "'''\n",
    "Compute line parameters from training data. \n",
    "Compute 'm' and 'c' of line by formula given in the above equations.\n",
    "a-hat is c and b-hat is m in equation y = mx + c\n",
    "'''\n",
    "x_mean = np.mean(x_train)\n",
    "y_mean = np.mean(y_train)\n",
    "_m = np.sum((x_train - x_mean) * (y_train - y_mean)) / np.sum((x_train - x_mean) ** 2)\n",
    "_c = y_mean - (_m * x_mean)\n",
    "print('\\nThe value of m and c is:', _m,',', _c)"
   ]
  },
  {
   "cell_type": "markdown",
   "metadata": {},
   "source": [
    "##### We can find predictions by y = mx + c"
   ]
  },
  {
   "cell_type": "code",
   "execution_count": 5,
   "metadata": {},
   "outputs": [],
   "source": [
    "'''Getting predictions on Training data'''\n",
    "y_pred = (_m * x_train) + _c"
   ]
  },
  {
   "cell_type": "markdown",
   "metadata": {},
   "source": [
    "##### Mean Squared Error\n",
    "\n",
    "We also need to find the error between our predicted values and the original values. We'll be using MSE error for this purpose.\n",
    "![title](https://miro.medium.com/max/880/1*20m_U-H6EIcxlN2k07Z7oQ.png)"
   ]
  },
  {
   "cell_type": "code",
   "execution_count": 6,
   "metadata": {
    "colab": {},
    "colab_type": "code",
    "id": "5ACgG0a-SJ4M"
   },
   "outputs": [],
   "source": [
    "'''\n",
    "Implement mean square error function. i.e err = mean_square_error(Y_actual, Y_predicted) \n",
    "where err is the mean square error of actual label (i.e. Y_actual) and predicted lable ( i.e. Y_predicted)\n",
    "'''\n",
    "def mean_squared_error(y_actual, y_predicted):\n",
    "    mse = (np.sum((y_actual - y_predicted) ** 2)) / len(y_actual)\n",
    "    return mse"
   ]
  },
  {
   "cell_type": "markdown",
   "metadata": {},
   "source": [
    "Computing MSE between predicted y and actual y"
   ]
  },
  {
   "cell_type": "code",
   "execution_count": 7,
   "metadata": {
    "colab": {},
    "colab_type": "code",
    "id": "j0JIgQb-SJ4c"
   },
   "outputs": [
    {
     "name": "stdout",
     "output_type": "stream",
     "text": [
      "MSE from line using Training data is: 39.42905636385886\n"
     ]
    }
   ],
   "source": [
    "'''\n",
    "Compute mean square error from line using training data i.e. training error.\n",
    "'''\n",
    "err = mean_squared_error(y_train, y_pred)\n",
    "print('MSE from line using Training data is:', err)"
   ]
  },
  {
   "cell_type": "markdown",
   "metadata": {},
   "source": [
    "##### Getting predictions of Test data"
   ]
  },
  {
   "cell_type": "code",
   "execution_count": 8,
   "metadata": {},
   "outputs": [],
   "source": [
    "'''Getting predictions on Test data'''\n",
    "y_pred_test = (_m * x_test) + _c"
   ]
  },
  {
   "cell_type": "code",
   "execution_count": 9,
   "metadata": {
    "colab": {},
    "colab_type": "code",
    "id": "qAGH5L5MSJ4v"
   },
   "outputs": [
    {
     "name": "stdout",
     "output_type": "stream",
     "text": [
      "MSE from line using Test data is: 34.87619673683119\n"
     ]
    }
   ],
   "source": [
    "'''\n",
    "Compute mean square error from line using test data i.e. test error.\n",
    "'''\n",
    "test_err = mean_squared_error(y_test, y_pred_test)\n",
    "print('MSE from line using Test data is:', test_err)"
   ]
  },
  {
   "cell_type": "markdown",
   "metadata": {},
   "source": [
    "We can use plt.plot() to plot the regression line on the data"
   ]
  },
  {
   "cell_type": "code",
   "execution_count": 10,
   "metadata": {
    "colab": {},
    "colab_type": "code",
    "id": "-qZnc7gtSJ5I",
    "scrolled": false
   },
   "outputs": [
    {
     "data": {
      "image/png": "[encoded data removed]",
      "text/plain": [
       "<Figure size 432x288 with 1 Axes>"
      ]
     },
     "metadata": {
      "needs_background": "light"
     },
     "output_type": "display_data"
    }
   ],
   "source": [
    "'''\n",
    "Plot regression line on training data\n",
    "'''\n",
    "plt.title('Plot on Training data')\n",
    "plt.scatter(x_train, y_train, c='r', label='train')\n",
    "plt.plot(x_train, y_pred, color='g', label='regression line')\n",
    "plt.legend()\n",
    "plt.show()"
   ]
  },
  {
   "cell_type": "code",
   "execution_count": 11,
   "metadata": {},
   "outputs": [
    {
     "data": {
      "image/png": "[encoded data removed]",
      "text/plain": [
       "<Figure size 432x288 with 1 Axes>"
      ]
     },
     "metadata": {
      "needs_background": "light"
     },
     "output_type": "display_data"
    }
   ],
   "source": [
    "'''\n",
    "Plot regression line on Testing data\n",
    "'''\n",
    "plt.title('Plot on Test data')\n",
    "plt.scatter(x_test, y_test, c='b', label='test')\n",
    "plt.plot(x_test, y_pred_test, color='y', label='regression line')\n",
    "plt.legend()\n",
    "plt.show()"
   ]
  }
 ],
 "metadata": {
  "colab": {
   "collapsed_sections": [],
   "name": "Assignment1.ipynb",
   "provenance": [],
   "version": "0.3.2"
  },
  "kernelspec": {
   "display_name": "Python 3",
   "language": "python",
   "name": "python3"
  },
  "language_info": {
   "codemirror_mode": {
    "name": "ipython",
    "version": 3
   },
   "file_extension": ".py",
   "mimetype": "text/x-python",
   "name": "python",
   "nbconvert_exporter": "python",
   "pygments_lexer": "ipython3",
   "version": "3.7.4"
  }
 },
 "nbformat": 4,
 "nbformat_minor": 1
}
