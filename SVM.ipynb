{
 "cells": [
  {
   "cell_type": "markdown",
   "metadata": {},
   "source": [
    "<h1><center>Support Vector Machines</center></h1>\n",
    "\n",
    "The goal of this tutorial is to develop your understanding of a basic Machine Learning classification model and learn some basic area of machine learning like supervised learning. It is necessary to not only understand the mathematics behind the models but also to know how to convert that knowledge into code that can work."
   ]
  },
  {
   "cell_type": "markdown",
   "metadata": {},
   "source": [
    "### By the end of this tutorial, you’ll have learned:\n",
    "\n",
    "   - What SVM is\n",
    "   - How SVM works\n",
    "   - How to implement KNN in Python, step by step"
   ]
  },
  {
   "cell_type": "markdown",
   "metadata": {},
   "source": [
    "### Supervised Learning\n",
    "\n",
    "Supervised learning in machine learning is the task of learning a funcion that maps some inputs to outputs based on some input-output pair. It infers a function from labeled training data consisting of a set of training examples. In supervised learning we are given labeled data with which we can compare our model's predictions with. A supervised learning algorithm analyzes the training data and produces an inferred function, which can be used for mapping new examples.\n",
    "\n",
    "Classification is an example of supervised learning. We will be looking at one of the most basic classification algorithm called K Nearest Neighbor (KNN) in this tutorial."
   ]
  },
  {
   "cell_type": "markdown",
   "metadata": {},
   "source": [
    "#### What is Classification?\n",
    "\n",
    "In machine learning, classification is the problem of identifying to which of a set of categories a new observation belongs to, on the basis of a training set of data containing observations whose category membership is known (is labeled). For example assigning an email spam or not spam is an example of classification. or Identifying a patient to have cancer or not is also an example of classification."
   ]
  },
  {
   "cell_type": "markdown",
   "metadata": {},
   "source": [
    "### Support vector machines\n",
    "\n",
    "SVM is considered generally to be a classification technique, it but can be used in both types of classification and regression tasks. SVM creates a hyperplane in multi-dimensional space to separate different classes. The main idea of support vector machines is margin maximization that divides data into two classes.\n",
    "\n",
    "![title](svm.png)\n",
    "\n",
    "#### Support vectors\n",
    "\n",
    "These are the points which are closest to the margin. These points will make the decision boundary better by calculating the margins. These support vaectors are more important to the construction of the classifier than other points.\n",
    "\n",
    "#### Hyperplane\n",
    "\n",
    "A decision plane which separates the classes.\n",
    "\n",
    "#### Margin\n",
    "\n",
    "A gap between the two lines on the closest class points. This is calculated as the perpendicular distance from the line to support vectors or closest points.\n",
    "\n",
    "#### SVM Kernels\n",
    "\n",
    "Generally, svm works only for linearly separable classes. To make it work on non-linear data we use something called kernels.\n",
    "A kernel transforms an input data space into the required space in which data can be separated linearly. SVM uses a technique called the kernel trick. The kernel takes a low-dimensional input space and transforms it into a higher dimensional space. There are different types of kernel like linear kernel, polynomial and rbf kernels."
   ]
  },
  {
   "cell_type": "markdown",
   "metadata": {},
   "source": [
    "### Advantages and Disadvantages of KNN\n",
    "\n",
    "#### Advantages\n",
    "   - Uses less memory.\n",
    "   - Works faster for predictions.\n",
    "   - Works well with a clear margin of separation and with high dimensional space.\n",
    "   - Offers good accuracy.\n",
    "    \n",
    "#### Disadvantages\n",
    "   - Training time is quite high.\n",
    "   - Choice of kernels.\n",
    "   - Outliers can be a problem. \n",
    "   - Doesn't work best with overlapping classes."
   ]
  },
  {
   "cell_type": "markdown",
   "metadata": {},
   "source": [
    "### Working of SVM\n",
    "\n",
    "The main objective of SVM is to divide the given data in the best possible way into different classes. The distance between the  nearest data points of each class is known as the margin. The goal of svm is to select a hyperplane with the maximum possible margin between support vectors in the given data. It does it in following ways:\n",
    "    \n",
    "  - Creates multiple decision boudaries that divides data into classes in the best way.\n",
    "  \n",
    "  ![title](svm2.jpg)\n",
    "  \n",
    "  - Now, there ae multiple decision boundaaries but which to select? Intuitively, if we select a hyperplane which is close to the data points of one class, then it might not generalize well. So the goal is to choose the hyperplane which is as far as possible from the data points of each category.\n",
    "  \n",
    "  ![title](svm3.jpg)\n",
    "\n",
    "  - By maximizing the distance between the classes and the hyperplane would result in an optimal separating hyperplane. The goal of SVMs is to find the optimal hyperplane because it not only classifies the existing dataset but also helps predict the class of the unseen data.\n",
    "  \n",
    "  ![title](svm.png)"
   ]
  },
  {
   "cell_type": "markdown",
   "metadata": {},
   "source": [
    "### Implementation using python\n",
    "\n",
    "These are some of the essential libraries that are needed to use some built-in functionalities provided by python. Some well-known libraries are like sklearn."
   ]
  },
  {
   "cell_type": "code",
   "execution_count": 1,
   "metadata": {},
   "outputs": [],
   "source": [
    "from sklearn import datasets\n",
    "from sklearn.model_selection import train_test_split\n",
    "from sklearn import svm\n",
    "from sklearn.metrics import accuracy_score"
   ]
  },
  {
   "cell_type": "markdown",
   "metadata": {},
   "source": [
    "##### Dataset\n",
    "\n",
    "For this tutorial we will be working with cancer dataset provided by sklearn library"
   ]
  },
  {
   "cell_type": "code",
   "execution_count": 2,
   "metadata": {},
   "outputs": [],
   "source": [
    "#Load dataset\n",
    "cancer = datasets.load_breast_cancer()"
   ]
  },
  {
   "cell_type": "markdown",
   "metadata": {},
   "source": [
    "Exploring the dataset"
   ]
  },
  {
   "cell_type": "code",
   "execution_count": 3,
   "metadata": {},
   "outputs": [
    {
     "name": "stdout",
     "output_type": "stream",
     "text": [
      "Features:  ['mean radius' 'mean texture' 'mean perimeter' 'mean area'\n",
      " 'mean smoothness' 'mean compactness' 'mean concavity'\n",
      " 'mean concave points' 'mean symmetry' 'mean fractal dimension'\n",
      " 'radius error' 'texture error' 'perimeter error' 'area error'\n",
      " 'smoothness error' 'compactness error' 'concavity error'\n",
      " 'concave points error' 'symmetry error' 'fractal dimension error'\n",
      " 'worst radius' 'worst texture' 'worst perimeter' 'worst area'\n",
      " 'worst smoothness' 'worst compactness' 'worst concavity'\n",
      " 'worst concave points' 'worst symmetry' 'worst fractal dimension']\n",
      "\n",
      "Labels:  ['malignant' 'benign']\n"
     ]
    }
   ],
   "source": [
    "# print the names of the 13 features\n",
    "print(\"Features: \", cancer.feature_names)\n",
    "\n",
    "# print the label type of cancer('malignant' 'benign') i.e. 2 classes\n",
    "print(\"\\nLabels: \", cancer.target_names)"
   ]
  },
  {
   "cell_type": "markdown",
   "metadata": {},
   "source": [
    "Let's take a look on targets of data. "
   ]
  },
  {
   "cell_type": "code",
   "execution_count": 4,
   "metadata": {
    "scrolled": false
   },
   "outputs": [
    {
     "name": "stdout",
     "output_type": "stream",
     "text": [
      "[0 0 0 0 0 0 0 0 0 0 0 0 0 0 0 0 0 0 0 1 1 1 0 0 0 0 0 0 0 0 0 0 0 0 0 0 0\n",
      " 1 0 0 0 0 0 0 0 0 1 0 1 1]\n"
     ]
    }
   ],
   "source": [
    "# print the first 50 labels (0:malignant, 1:benign)\n",
    "print(cancer.target[:50])"
   ]
  },
  {
   "cell_type": "markdown",
   "metadata": {},
   "source": [
    "let's split data into training and testing"
   ]
  },
  {
   "cell_type": "code",
   "execution_count": 5,
   "metadata": {},
   "outputs": [],
   "source": [
    "# Split dataset into training set and test set\n",
    "X_train, X_test, y_train, y_test = train_test_split(cancer.data, cancer.target, test_size=0.25)"
   ]
  },
  {
   "cell_type": "markdown",
   "metadata": {},
   "source": [
    "##### Creating model\n",
    "\n",
    "Let's start building our svm model by using sklearn."
   ]
  },
  {
   "cell_type": "code",
   "execution_count": 6,
   "metadata": {
    "collapsed": true
   },
   "outputs": [
    {
     "data": {
      "text/plain": [
       "SVC(C=1.0, break_ties=False, cache_size=200, class_weight=None, coef0=0.0,\n",
       "    decision_function_shape='ovr', degree=3, gamma='scale', kernel='linear',\n",
       "    max_iter=-1, probability=False, random_state=None, shrinking=True,\n",
       "    tol=0.001, verbose=False)"
      ]
     },
     "execution_count": 6,
     "metadata": {},
     "output_type": "execute_result"
    }
   ],
   "source": [
    "#Create a svm Classifier\n",
    "clf = svm.SVC(kernel='linear') # Linear Kernel\n",
    "\n",
    "#Train the model using the training sets\n",
    "clf.fit(X_train, y_train)"
   ]
  },
  {
   "cell_type": "markdown",
   "metadata": {},
   "source": [
    "Prediction on test data"
   ]
  },
  {
   "cell_type": "code",
   "execution_count": 7,
   "metadata": {},
   "outputs": [],
   "source": [
    "#Predict the response for test dataset\n",
    "y_pred = clf.predict(X_test)"
   ]
  },
  {
   "cell_type": "markdown",
   "metadata": {},
   "source": [
    "##### Performace\n",
    "\n",
    "Let's measure performance of our model by comparing predictions with the original labels."
   ]
  },
  {
   "cell_type": "code",
   "execution_count": 8,
   "metadata": {},
   "outputs": [
    {
     "name": "stdout",
     "output_type": "stream",
     "text": [
      "Accuracy: 94.0 %\n"
     ]
    }
   ],
   "source": [
    "# Model Accuracy\n",
    "print(\"Accuracy:\", round(accuracy_score(y_test, y_pred)*100),'%')"
   ]
  },
  {
   "cell_type": "markdown",
   "metadata": {},
   "source": [
    "Our model got an accuracy of 94 % which is pretty good."
   ]
  }
 ],
 "metadata": {
  "kernelspec": {
   "display_name": "Python 3",
   "language": "python",
   "name": "python3"
  },
  "language_info": {
   "codemirror_mode": {
    "name": "ipython",
    "version": 3
   },
   "file_extension": ".py",
   "mimetype": "text/x-python",
   "name": "python",
   "nbconvert_exporter": "python",
   "pygments_lexer": "ipython3",
   "version": "3.7.4"
  }
 },
 "nbformat": 4,
 "nbformat_minor": 2
}
